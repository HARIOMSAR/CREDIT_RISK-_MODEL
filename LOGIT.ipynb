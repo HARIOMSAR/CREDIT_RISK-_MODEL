{
 "cells": [
  {
   "cell_type": "code",
   "execution_count": 60,
   "id": "e970b8c3-d128-4198-a6a8-0e885fe15866",
   "metadata": {},
   "outputs": [
    {
     "data": {
      "text/html": [
       "<div>\n",
       "<style scoped>\n",
       "    .dataframe tbody tr th:only-of-type {\n",
       "        vertical-align: middle;\n",
       "    }\n",
       "\n",
       "    .dataframe tbody tr th {\n",
       "        vertical-align: top;\n",
       "    }\n",
       "\n",
       "    .dataframe thead th {\n",
       "        text-align: right;\n",
       "    }\n",
       "</style>\n",
       "<table border=\"1\" class=\"dataframe\">\n",
       "  <thead>\n",
       "    <tr style=\"text-align: right;\">\n",
       "      <th></th>\n",
       "      <th>ID</th>\n",
       "      <th>LIMIT_BAL</th>\n",
       "      <th>GENDER</th>\n",
       "      <th>EDUCATION</th>\n",
       "      <th>MARRIAGE</th>\n",
       "      <th>AGE</th>\n",
       "      <th>PAY_1</th>\n",
       "      <th>PAY_2</th>\n",
       "      <th>PAY_3</th>\n",
       "      <th>PAY_4</th>\n",
       "      <th>...</th>\n",
       "      <th>BILL_AMT4</th>\n",
       "      <th>BILL_AMT5</th>\n",
       "      <th>BILL_AMT6</th>\n",
       "      <th>PAY_AMT1</th>\n",
       "      <th>PAY_AMT2</th>\n",
       "      <th>PAY_AMT3</th>\n",
       "      <th>PAY_AMT4</th>\n",
       "      <th>PAY_AMT5</th>\n",
       "      <th>PAY_AMT6</th>\n",
       "      <th>default payment next month</th>\n",
       "    </tr>\n",
       "  </thead>\n",
       "  <tbody>\n",
       "    <tr>\n",
       "      <th>0</th>\n",
       "      <td>1</td>\n",
       "      <td>20000</td>\n",
       "      <td>2</td>\n",
       "      <td>2</td>\n",
       "      <td>1</td>\n",
       "      <td>24</td>\n",
       "      <td>2</td>\n",
       "      <td>2</td>\n",
       "      <td>-1</td>\n",
       "      <td>-1</td>\n",
       "      <td>...</td>\n",
       "      <td>0</td>\n",
       "      <td>0</td>\n",
       "      <td>0</td>\n",
       "      <td>0</td>\n",
       "      <td>689</td>\n",
       "      <td>0</td>\n",
       "      <td>0</td>\n",
       "      <td>0</td>\n",
       "      <td>0</td>\n",
       "      <td>1</td>\n",
       "    </tr>\n",
       "    <tr>\n",
       "      <th>1</th>\n",
       "      <td>2</td>\n",
       "      <td>120000</td>\n",
       "      <td>2</td>\n",
       "      <td>2</td>\n",
       "      <td>2</td>\n",
       "      <td>26</td>\n",
       "      <td>-1</td>\n",
       "      <td>2</td>\n",
       "      <td>0</td>\n",
       "      <td>0</td>\n",
       "      <td>...</td>\n",
       "      <td>3272</td>\n",
       "      <td>3455</td>\n",
       "      <td>3261</td>\n",
       "      <td>0</td>\n",
       "      <td>1000</td>\n",
       "      <td>1000</td>\n",
       "      <td>1000</td>\n",
       "      <td>0</td>\n",
       "      <td>2000</td>\n",
       "      <td>1</td>\n",
       "    </tr>\n",
       "    <tr>\n",
       "      <th>2</th>\n",
       "      <td>3</td>\n",
       "      <td>90000</td>\n",
       "      <td>2</td>\n",
       "      <td>2</td>\n",
       "      <td>2</td>\n",
       "      <td>34</td>\n",
       "      <td>0</td>\n",
       "      <td>0</td>\n",
       "      <td>0</td>\n",
       "      <td>0</td>\n",
       "      <td>...</td>\n",
       "      <td>14331</td>\n",
       "      <td>14948</td>\n",
       "      <td>15549</td>\n",
       "      <td>1518</td>\n",
       "      <td>1500</td>\n",
       "      <td>1000</td>\n",
       "      <td>1000</td>\n",
       "      <td>1000</td>\n",
       "      <td>5000</td>\n",
       "      <td>0</td>\n",
       "    </tr>\n",
       "    <tr>\n",
       "      <th>3</th>\n",
       "      <td>4</td>\n",
       "      <td>50000</td>\n",
       "      <td>2</td>\n",
       "      <td>2</td>\n",
       "      <td>1</td>\n",
       "      <td>37</td>\n",
       "      <td>0</td>\n",
       "      <td>0</td>\n",
       "      <td>0</td>\n",
       "      <td>0</td>\n",
       "      <td>...</td>\n",
       "      <td>28314</td>\n",
       "      <td>28959</td>\n",
       "      <td>29547</td>\n",
       "      <td>2000</td>\n",
       "      <td>2019</td>\n",
       "      <td>1200</td>\n",
       "      <td>1100</td>\n",
       "      <td>1069</td>\n",
       "      <td>1000</td>\n",
       "      <td>0</td>\n",
       "    </tr>\n",
       "    <tr>\n",
       "      <th>4</th>\n",
       "      <td>5</td>\n",
       "      <td>50000</td>\n",
       "      <td>1</td>\n",
       "      <td>2</td>\n",
       "      <td>1</td>\n",
       "      <td>57</td>\n",
       "      <td>-1</td>\n",
       "      <td>0</td>\n",
       "      <td>-1</td>\n",
       "      <td>0</td>\n",
       "      <td>...</td>\n",
       "      <td>20940</td>\n",
       "      <td>19146</td>\n",
       "      <td>19131</td>\n",
       "      <td>2000</td>\n",
       "      <td>36681</td>\n",
       "      <td>10000</td>\n",
       "      <td>9000</td>\n",
       "      <td>689</td>\n",
       "      <td>679</td>\n",
       "      <td>0</td>\n",
       "    </tr>\n",
       "  </tbody>\n",
       "</table>\n",
       "<p>5 rows × 25 columns</p>\n",
       "</div>"
      ],
      "text/plain": [
       "   ID  LIMIT_BAL  GENDER  EDUCATION  MARRIAGE  AGE  PAY_1  PAY_2  PAY_3  \\\n",
       "0   1      20000       2          2         1   24      2      2     -1   \n",
       "1   2     120000       2          2         2   26     -1      2      0   \n",
       "2   3      90000       2          2         2   34      0      0      0   \n",
       "3   4      50000       2          2         1   37      0      0      0   \n",
       "4   5      50000       1          2         1   57     -1      0     -1   \n",
       "\n",
       "   PAY_4  ...  BILL_AMT4  BILL_AMT5  BILL_AMT6  PAY_AMT1  PAY_AMT2  PAY_AMT3  \\\n",
       "0     -1  ...          0          0          0         0       689         0   \n",
       "1      0  ...       3272       3455       3261         0      1000      1000   \n",
       "2      0  ...      14331      14948      15549      1518      1500      1000   \n",
       "3      0  ...      28314      28959      29547      2000      2019      1200   \n",
       "4      0  ...      20940      19146      19131      2000     36681     10000   \n",
       "\n",
       "   PAY_AMT4  PAY_AMT5  PAY_AMT6  default payment next month  \n",
       "0         0         0         0                           1  \n",
       "1      1000         0      2000                           1  \n",
       "2      1000      1000      5000                           0  \n",
       "3      1100      1069      1000                           0  \n",
       "4      9000       689       679                           0  \n",
       "\n",
       "[5 rows x 25 columns]"
      ]
     },
     "execution_count": 60,
     "metadata": {},
     "output_type": "execute_result"
    }
   ],
   "source": [
    "import pandas as pd\n",
    "\n",
    "# Load the dataset\n",
    "data = pd.read_excel(\"NEWdataset.xlsx\", header=1)\n",
    "\n",
    "# Display the first few rows of the dataframe\n",
    "data.head()"
   ]
  },
  {
   "cell_type": "code",
   "execution_count": 61,
   "id": "1e2eee4e-37b5-4d5e-80f7-d8e41fdd0b07",
   "metadata": {},
   "outputs": [
    {
     "name": "stdout",
     "output_type": "stream",
     "text": [
      "<class 'pandas.core.frame.DataFrame'>\n",
      "RangeIndex: 2000 entries, 0 to 1999\n",
      "Data columns (total 25 columns):\n",
      " #   Column                      Non-Null Count  Dtype\n",
      "---  ------                      --------------  -----\n",
      " 0   ID                          2000 non-null   int64\n",
      " 1   LIMIT_BAL                   2000 non-null   int64\n",
      " 2   GENDER                      2000 non-null   int64\n",
      " 3   EDUCATION                   2000 non-null   int64\n",
      " 4   MARRIAGE                    2000 non-null   int64\n",
      " 5   AGE                         2000 non-null   int64\n",
      " 6   PAY_1                       2000 non-null   int64\n",
      " 7   PAY_2                       2000 non-null   int64\n",
      " 8   PAY_3                       2000 non-null   int64\n",
      " 9   PAY_4                       2000 non-null   int64\n",
      " 10  PAY_5                       2000 non-null   int64\n",
      " 11  PAY_6                       2000 non-null   int64\n",
      " 12  BILL_AMT1                   2000 non-null   int64\n",
      " 13  BILL_AMT2                   2000 non-null   int64\n",
      " 14  BILL_AMT3                   2000 non-null   int64\n",
      " 15  BILL_AMT4                   2000 non-null   int64\n",
      " 16  BILL_AMT5                   2000 non-null   int64\n",
      " 17  BILL_AMT6                   2000 non-null   int64\n",
      " 18  PAY_AMT1                    2000 non-null   int64\n",
      " 19  PAY_AMT2                    2000 non-null   int64\n",
      " 20  PAY_AMT3                    2000 non-null   int64\n",
      " 21  PAY_AMT4                    2000 non-null   int64\n",
      " 22  PAY_AMT5                    2000 non-null   int64\n",
      " 23  PAY_AMT6                    2000 non-null   int64\n",
      " 24  default payment next month  2000 non-null   int64\n",
      "dtypes: int64(25)\n",
      "memory usage: 390.8 KB\n"
     ]
    }
   ],
   "source": [
    "# Lets see the information of data\n",
    "data.info()"
   ]
  },
  {
   "cell_type": "code",
   "execution_count": 62,
   "id": "67d2f7cb-faeb-4ea5-914f-2ecf621b0b98",
   "metadata": {},
   "outputs": [],
   "source": [
    "normalized_df=(data-data.mean())/data.std()"
   ]
  },
  {
   "cell_type": "code",
   "execution_count": 63,
   "id": "74f9fa4e-3886-445e-ae2f-b2cf3a84f346",
   "metadata": {},
   "outputs": [
    {
     "data": {
      "text/plain": [
       "Index(['ID', 'LIMIT_BAL', 'GENDER', 'EDUCATION', 'MARRIAGE', 'AGE', 'PAY_1',\n",
       "       'PAY_2', 'PAY_3', 'PAY_4', 'PAY_5', 'PAY_6', 'BILL_AMT1', 'BILL_AMT2',\n",
       "       'BILL_AMT3', 'BILL_AMT4', 'BILL_AMT5', 'BILL_AMT6', 'PAY_AMT1',\n",
       "       'PAY_AMT2', 'PAY_AMT3', 'PAY_AMT4', 'PAY_AMT5', 'PAY_AMT6',\n",
       "       'default payment next month'],\n",
       "      dtype='object')"
      ]
     },
     "execution_count": 63,
     "metadata": {},
     "output_type": "execute_result"
    }
   ],
   "source": [
    "data.columns"
   ]
  },
  {
   "cell_type": "markdown",
   "id": "fec643ca-4a2a-43d6-beef-59feb32587e2",
   "metadata": {},
   "source": [
    "The dependent variable here is \"default payment next month\" and all other variables can be considered as independent variables. Let's check the data for any missing values and then we can continue with the data pre-processing steps."
   ]
  },
  {
   "cell_type": "code",
   "execution_count": 64,
   "id": "31278732-b336-489d-a223-5ffb47271ddb",
   "metadata": {},
   "outputs": [
    {
     "data": {
      "text/plain": [
       "ID                            0\n",
       "LIMIT_BAL                     0\n",
       "GENDER                        0\n",
       "EDUCATION                     0\n",
       "MARRIAGE                      0\n",
       "AGE                           0\n",
       "PAY_1                         0\n",
       "PAY_2                         0\n",
       "PAY_3                         0\n",
       "PAY_4                         0\n",
       "PAY_5                         0\n",
       "PAY_6                         0\n",
       "BILL_AMT1                     0\n",
       "BILL_AMT2                     0\n",
       "BILL_AMT3                     0\n",
       "BILL_AMT4                     0\n",
       "BILL_AMT5                     0\n",
       "BILL_AMT6                     0\n",
       "PAY_AMT1                      0\n",
       "PAY_AMT2                      0\n",
       "PAY_AMT3                      0\n",
       "PAY_AMT4                      0\n",
       "PAY_AMT5                      0\n",
       "PAY_AMT6                      0\n",
       "default payment next month    0\n",
       "dtype: int64"
      ]
     },
     "execution_count": 64,
     "metadata": {},
     "output_type": "execute_result"
    }
   ],
   "source": [
    "# Check for missing values in the dataset\n",
    "data.isnull().sum()"
   ]
  },
  {
   "cell_type": "markdown",
   "id": "76d8c12d-67c5-4c6c-96c1-206bac88b9e1",
   "metadata": {},
   "source": [
    "The dataset does not contain any missing values, which simplifies the data preprocessing stage. Since all the features are numerical, we also don't need to convert any categorical variables into numerical representations.\n",
    "\n",
    "Before we proceed with the logistic regression model, we need to split the data into a training set and a test set. This will allow us to evaluate the performance of the model on unseen data.\n",
    "\n",
    "Also, it's important to note that the variable 'ID' is just an identifier for each client and it will not have any predictive power for the model. So, we can drop this variable. Let's do this next."
   ]
  },
  {
   "cell_type": "code",
   "execution_count": 67,
   "id": "62aa3f19-77b1-44b3-9b12-ee1c53e9f1c6",
   "metadata": {},
   "outputs": [
    {
     "data": {
      "text/plain": [
       "((1600, 23), (400, 23), (1600,), (400,))"
      ]
     },
     "execution_count": 67,
     "metadata": {},
     "output_type": "execute_result"
    }
   ],
   "source": [
    "from sklearn.model_selection import train_test_split\n",
    "\n",
    "# Drop the 'ID' column\n",
    "data = normalized_df.drop(['ID'], axis=1)\n",
    "\n",
    "# Define the feature set X and the target variable y\n",
    "X = data.drop(['default payment next month'], axis=1)\n",
    "y = data['default payment next month']\n",
    "\n",
    "# Convert target variable to integer type\n",
    "y = y.astype('int')\n",
    "\n",
    "# Split the data into a training set and a test set\n",
    "X_train, X_test, y_train, y_test = train_test_split(X, y, test_size=0.2, random_state=42)\n",
    "\n",
    "X_train.shape, X_test.shape, y_train.shape, y_test.shape"
   ]
  },
  {
   "cell_type": "code",
   "execution_count": 68,
   "id": "57c355ea-40d3-4c02-ae21-ee7b862838d7",
   "metadata": {},
   "outputs": [
    {
     "data": {
      "text/plain": [
       "(array([1247.,    0.,    0.,    0.,    0.,    0.,    0.,    0.,    0.,\n",
       "         353.]),\n",
       " array([0. , 0.1, 0.2, 0.3, 0.4, 0.5, 0.6, 0.7, 0.8, 0.9, 1. ]),\n",
       " <BarContainer object of 10 artists>)"
      ]
     },
     "execution_count": 68,
     "metadata": {},
     "output_type": "execute_result"
    },
    {
     "data": {
      "image/png": "[encoded data removed]",
      "text/plain": [
       "<Figure size 640x480 with 1 Axes>"
      ]
     },
     "metadata": {},
     "output_type": "display_data"
    }
   ],
   "source": [
    "import matplotlib.pyplot as plt\n",
    "\n",
    "plt.hist(y_train)\n"
   ]
  },
  {
   "cell_type": "code",
   "execution_count": 69,
   "id": "c86afcdc-8b99-4eb5-b210-70b7a96cd9d3",
   "metadata": {},
   "outputs": [
    {
     "data": {
      "text/plain": [
       "LogisticRegression(max_iter=2000)"
      ]
     },
     "execution_count": 69,
     "metadata": {},
     "output_type": "execute_result"
    }
   ],
   "source": [
    "from sklearn.linear_model import LogisticRegression\n",
    "\n",
    "# Initialize a logistic regression model\n",
    "log_reg = LogisticRegression(max_iter=2000)\n",
    "\n",
    "# Fit the model to the training data\n",
    "log_reg.fit(X_train, y_train)\n"
   ]
  },
  {
   "cell_type": "code",
   "execution_count": 71,
   "id": "850e2c10-1365-42f6-826c-4c989c04ad3d",
   "metadata": {},
   "outputs": [
    {
     "name": "stdout",
     "output_type": "stream",
     "text": [
      "Optimization terminated successfully.\n",
      "         Current function value: 0.474660\n",
      "         Iterations 7\n",
      "  Feature  Coefficient  Standard Error  P-value\n",
      "LIMIT_BAL    -0.014681        0.085340    0.869\n",
      "   GENDER    -0.017449        0.065149    0.784\n",
      "EDUCATION    -0.055334        0.070807    0.432\n",
      " MARRIAGE    -0.096368        0.069678    0.163\n",
      "      AGE     0.108469        0.070944    0.124\n",
      "    PAY_1     0.596000        0.081785    0.000\n",
      "    PAY_2    -0.150899        0.107681    0.150\n",
      "    PAY_3     0.259594        0.124189    0.034\n",
      "    PAY_4    -0.084311        0.141009    0.517\n",
      "    PAY_5     0.212894        0.143138    0.126\n",
      "    PAY_6    -0.117503        0.117009    0.312\n",
      "BILL_AMT1    -0.447483        0.347839    0.142\n",
      "BILL_AMT2     0.019658        0.439413    0.943\n",
      "BILL_AMT3     0.509319        0.380267    0.124\n",
      "BILL_AMT4     0.428513        0.262450    0.085\n",
      "BILL_AMT5    -0.244082        0.396684    0.488\n",
      "BILL_AMT6    -0.318504        0.324075    0.300\n",
      " PAY_AMT1    -0.324549        0.171772    0.048\n",
      " PAY_AMT2    -0.347350        0.166885    0.029\n",
      " PAY_AMT3     0.037413        0.076690    0.586\n",
      " PAY_AMT4    -0.180359        0.121526    0.136\n",
      " PAY_AMT5     0.075683        0.102494    0.437\n",
      " PAY_AMT6     0.030426        0.093318    0.757\n"
     ]
    }
   ],
   "source": [
    "import pandas as pd\n",
    "import statsmodels.api as sm\n",
    "from sklearn.model_selection import train_test_split\n",
    "from sklearn.linear_model import LogisticRegression\n",
    "from sklearn.metrics import accuracy_score, precision_score, recall_score\n",
    "\n",
    "# Load the dataset\n",
    "df = pd.read_excel(\"NEWdataset.xlsx\")\n",
    "\n",
    "# Assuming that you have already defined your features (X) and target variable (y)\n",
    "# Split the dataset into a training set and a test set\n",
    "X_train, X_test, y_train, y_test = train_test_split(X, y, test_size=0.2, random_state=42)\n",
    "\n",
    "# Create a logistic regression model\n",
    "model = LogisticRegression()\n",
    "\n",
    "# Fit the model to the training set\n",
    "model.fit(X_train, y_train)\n",
    "\n",
    "# Evaluate the model on the test set\n",
    "y_pred = model.predict(X_test)\n",
    "accuracy = accuracy_score(y_test, y_pred)\n",
    "precision = precision_score(y_test, y_pred)\n",
    "recall = recall_score(y_test, y_pred)\n",
    "\n",
    "# Get the feature importance (the coefficients of the logistic regression model)\n",
    "feature_importance = abs(model.coef_[0])\n",
    "\n",
    "# Use statsmodels to calculate standard errors and p-values\n",
    "X_train = sm.add_constant(X_train)\n",
    "# Add a constant term for the intercept\n",
    "logit_model = sm.Logit(y_train, X_train)\n",
    "result = logit_model.fit()\n",
    "\n",
    "# Create a DataFrame to display the coefficients along with standard error and p-values\n",
    "coef_df = pd.DataFrame({\"Feature\": X.columns, \"Coefficient\": model.coef_[0], \"Standard Error\": result.bse[1:], \"P-value\": result.pvalues[1:].round(3)})\n",
    "\n",
    "# Display the output in tabular form\n",
    "print(coef_df.to_string(index=False))"
   ]
  },
  {
   "cell_type": "code",
   "execution_count": 72,
   "id": "ae27053b-7ca1-4660-9891-603233296a05",
   "metadata": {},
   "outputs": [
    {
     "name": "stdout",
     "output_type": "stream",
     "text": [
      "Metric         Value\n",
      "---------  ---------\n",
      "Accuracy   0.81\n",
      "Precision  0.727273\n",
      "Recall     0.0987654\n",
      "ROC AUC    0.711637\n"
     ]
    }
   ],
   "source": [
    "from sklearn.metrics import accuracy_score, precision_score, recall_score, roc_auc_score, roc_curve\n",
    "import matplotlib.pyplot as plt\n",
    "import tabulate\n",
    "\n",
    "# Make predictions on the test data\n",
    "y_pred = log_reg.predict(X_test)\n",
    "\n",
    "# Calculate accuracy, precision, and recall\n",
    "accuracy = accuracy_score(y_test, y_pred)\n",
    "precision = precision_score(y_test, y_pred)\n",
    "recall = recall_score(y_test, y_pred)\n",
    "\n",
    "# Calculate the ROC AUC\n",
    "y_pred_prob = log_reg.predict_proba(X_test)[:, 1]\n",
    "roc_auc = roc_auc_score(y_test, y_pred_prob)\n",
    "\n",
    "# Calculate the ROC curve points\n",
    "fpr, tpr, thresholds = roc_curve(y_test, y_pred_prob)\n",
    "\n",
    "# Print the performance metrics\n",
    "accuracy, precision, recall, roc_auc\n",
    "\n",
    "# Print the performance metrics in tabular form\n",
    "print(tabulate.tabulate([\n",
    "    ('Accuracy', accuracy),\n",
    "    ('Precision', precision),\n",
    "    ('Recall', recall),\n",
    "    ('ROC AUC', roc_auc),], headers=['Metric', 'Value']))\n",
    "\n",
    "\n",
    "# Save the output to a spreadsheet\n",
    "df.to_excel(\"PARC.xlsx\")"
   ]
  },
  {
   "cell_type": "code",
   "execution_count": 73,
   "id": "67886390-0b8d-449e-93b0-33e5a32a6a65",
   "metadata": {},
   "outputs": [
    {
     "data": {
      "image/png": "[encoded data removed]",
      "text/plain": [
       "<Figure size 640x480 with 1 Axes>"
      ]
     },
     "metadata": {},
     "output_type": "display_data"
    }
   ],
   "source": [
    "# Plot the ROC curve\n",
    "plt.figure()\n",
    "plt.plot(fpr, tpr, label='Logistic Regression (area = %0.2f)' % roc_auc)\n",
    "plt.plot([0, 1], [0, 1],'r--')\n",
    "plt.xlim([0.0, 1.0])\n",
    "plt.ylim([0.0, 1.05])\n",
    "plt.xlabel('False Positive Rate')\n",
    "plt.ylabel('True Positive Rate')\n",
    "plt.title('Receiver Operating Characteristic')\n",
    "plt.legend(loc=\"lower right\")\n",
    "plt.show()"
   ]
  },
  {
   "cell_type": "code",
   "execution_count": 20,
   "id": "8f2c40d2-c285-4923-9e3c-c49f59a9148f",
   "metadata": {},
   "outputs": [
    {
     "name": "stderr",
     "output_type": "stream",
     "text": [
      "C:\\Users\\sarsw\\anaconda3\\lib\\site-packages\\sklearn\\utils\\deprecation.py:87: FutureWarning: Function plot_precision_recall_curve is deprecated; Function `plot_precision_recall_curve` is deprecated in 1.0 and will be removed in 1.2. Use one of the class methods: PrecisionRecallDisplay.from_predictions or PrecisionRecallDisplay.from_estimator.\n",
      "  warnings.warn(msg, category=FutureWarning)\n"
     ]
    },
    {
     "data": {
      "text/plain": [
       "<sklearn.metrics._plot.precision_recall_curve.PrecisionRecallDisplay at 0x2875a84e880>"
      ]
     },
     "execution_count": 20,
     "metadata": {},
     "output_type": "execute_result"
    },
    {
     "data": {
      "image/png": "[encoded data removed]",
      "text/plain": [
       "<Figure size 640x480 with 1 Axes>"
      ]
     },
     "metadata": {},
     "output_type": "display_data"
    }
   ],
   "source": [
    "# plot roc_auc curve\n",
    "plot_precision_recall_curve(model,X_test,y_test)"
   ]
  }
 ],
 "metadata": {
  "kernelspec": {
   "display_name": "Python 3 (ipykernel)",
   "language": "python",
   "name": "python3"
  },
  "language_info": {
   "codemirror_mode": {
    "name": "ipython",
    "version": 3
   },
   "file_extension": ".py",
   "mimetype": "text/x-python",
   "name": "python",
   "nbconvert_exporter": "python",
   "pygments_lexer": "ipython3",
   "version": "3.9.13"
  }
 },
 "nbformat": 4,
 "nbformat_minor": 5
}
